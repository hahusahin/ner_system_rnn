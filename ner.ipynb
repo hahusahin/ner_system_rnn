{
 "cells": [
  {
   "cell_type": "markdown",
   "metadata": {
    "id": "HyJzOiRVqrzl"
   },
   "source": [
    "## IMPORT LIBRARIES"
   ]
  },
  {
   "cell_type": "code",
   "execution_count": 1,
   "metadata": {
    "id": "0TccnI_5qrzv"
   },
   "outputs": [],
   "source": [
    "import numpy as np\n",
    "import pandas as pd\n",
    "\n",
    "from seqeval.metrics import accuracy_score, precision_score, recall_score, f1_score, classification_report\n",
    "from sklearn.model_selection import train_test_split\n",
    "\n",
    "from tensorflow.keras.preprocessing.sequence import pad_sequences\n",
    "from tensorflow.keras.utils import to_categorical\n",
    "\n",
    "from tensorflow.keras.models import Model, load_model, Sequential\n",
    "from tensorflow.keras.layers import Input, LSTM, Embedding, Dense, TimeDistributed, Dropout, Bidirectional\n",
    "from tensorflow.keras.callbacks import EarlyStopping, ModelCheckpoint\n",
    "\n",
    "import pickle"
   ]
  },
  {
   "cell_type": "markdown",
   "metadata": {
    "id": "_zufXxakqrzw"
   },
   "source": [
    "## LOAD DATASET"
   ]
  },
  {
   "cell_type": "code",
   "execution_count": 2,
   "metadata": {
    "id": "xc3PpDUfqrzw"
   },
   "outputs": [],
   "source": [
    "df = pd.read_csv('ner_dataset.csv', encoding=\"latin1\")"
   ]
  },
  {
   "cell_type": "code",
   "execution_count": 3,
   "metadata": {
    "colab": {
     "base_uri": "https://localhost:8080/",
     "height": 979
    },
    "id": "JPMPDjIgqrzx",
    "outputId": "da2357ef-c0a3-48aa-be31-6793f17e25ec"
   },
   "outputs": [
    {
     "data": {
      "text/html": [
       "<div>\n",
       "<style scoped>\n",
       "    .dataframe tbody tr th:only-of-type {\n",
       "        vertical-align: middle;\n",
       "    }\n",
       "\n",
       "    .dataframe tbody tr th {\n",
       "        vertical-align: top;\n",
       "    }\n",
       "\n",
       "    .dataframe thead th {\n",
       "        text-align: right;\n",
       "    }\n",
       "</style>\n",
       "<table border=\"1\" class=\"dataframe\">\n",
       "  <thead>\n",
       "    <tr style=\"text-align: right;\">\n",
       "      <th></th>\n",
       "      <th>Sentence #</th>\n",
       "      <th>Word</th>\n",
       "      <th>POS</th>\n",
       "      <th>Tag</th>\n",
       "    </tr>\n",
       "  </thead>\n",
       "  <tbody>\n",
       "    <tr>\n",
       "      <th>0</th>\n",
       "      <td>Sentence: 1</td>\n",
       "      <td>Thousands</td>\n",
       "      <td>NNS</td>\n",
       "      <td>O</td>\n",
       "    </tr>\n",
       "    <tr>\n",
       "      <th>1</th>\n",
       "      <td>NaN</td>\n",
       "      <td>of</td>\n",
       "      <td>IN</td>\n",
       "      <td>O</td>\n",
       "    </tr>\n",
       "    <tr>\n",
       "      <th>2</th>\n",
       "      <td>NaN</td>\n",
       "      <td>demonstrators</td>\n",
       "      <td>NNS</td>\n",
       "      <td>O</td>\n",
       "    </tr>\n",
       "    <tr>\n",
       "      <th>3</th>\n",
       "      <td>NaN</td>\n",
       "      <td>have</td>\n",
       "      <td>VBP</td>\n",
       "      <td>O</td>\n",
       "    </tr>\n",
       "    <tr>\n",
       "      <th>4</th>\n",
       "      <td>NaN</td>\n",
       "      <td>marched</td>\n",
       "      <td>VBN</td>\n",
       "      <td>O</td>\n",
       "    </tr>\n",
       "    <tr>\n",
       "      <th>5</th>\n",
       "      <td>NaN</td>\n",
       "      <td>through</td>\n",
       "      <td>IN</td>\n",
       "      <td>O</td>\n",
       "    </tr>\n",
       "    <tr>\n",
       "      <th>6</th>\n",
       "      <td>NaN</td>\n",
       "      <td>London</td>\n",
       "      <td>NNP</td>\n",
       "      <td>B-geo</td>\n",
       "    </tr>\n",
       "    <tr>\n",
       "      <th>7</th>\n",
       "      <td>NaN</td>\n",
       "      <td>to</td>\n",
       "      <td>TO</td>\n",
       "      <td>O</td>\n",
       "    </tr>\n",
       "    <tr>\n",
       "      <th>8</th>\n",
       "      <td>NaN</td>\n",
       "      <td>protest</td>\n",
       "      <td>VB</td>\n",
       "      <td>O</td>\n",
       "    </tr>\n",
       "    <tr>\n",
       "      <th>9</th>\n",
       "      <td>NaN</td>\n",
       "      <td>the</td>\n",
       "      <td>DT</td>\n",
       "      <td>O</td>\n",
       "    </tr>\n",
       "    <tr>\n",
       "      <th>10</th>\n",
       "      <td>NaN</td>\n",
       "      <td>war</td>\n",
       "      <td>NN</td>\n",
       "      <td>O</td>\n",
       "    </tr>\n",
       "    <tr>\n",
       "      <th>11</th>\n",
       "      <td>NaN</td>\n",
       "      <td>in</td>\n",
       "      <td>IN</td>\n",
       "      <td>O</td>\n",
       "    </tr>\n",
       "    <tr>\n",
       "      <th>12</th>\n",
       "      <td>NaN</td>\n",
       "      <td>Iraq</td>\n",
       "      <td>NNP</td>\n",
       "      <td>B-geo</td>\n",
       "    </tr>\n",
       "    <tr>\n",
       "      <th>13</th>\n",
       "      <td>NaN</td>\n",
       "      <td>and</td>\n",
       "      <td>CC</td>\n",
       "      <td>O</td>\n",
       "    </tr>\n",
       "    <tr>\n",
       "      <th>14</th>\n",
       "      <td>NaN</td>\n",
       "      <td>demand</td>\n",
       "      <td>VB</td>\n",
       "      <td>O</td>\n",
       "    </tr>\n",
       "    <tr>\n",
       "      <th>15</th>\n",
       "      <td>NaN</td>\n",
       "      <td>the</td>\n",
       "      <td>DT</td>\n",
       "      <td>O</td>\n",
       "    </tr>\n",
       "    <tr>\n",
       "      <th>16</th>\n",
       "      <td>NaN</td>\n",
       "      <td>withdrawal</td>\n",
       "      <td>NN</td>\n",
       "      <td>O</td>\n",
       "    </tr>\n",
       "    <tr>\n",
       "      <th>17</th>\n",
       "      <td>NaN</td>\n",
       "      <td>of</td>\n",
       "      <td>IN</td>\n",
       "      <td>O</td>\n",
       "    </tr>\n",
       "    <tr>\n",
       "      <th>18</th>\n",
       "      <td>NaN</td>\n",
       "      <td>British</td>\n",
       "      <td>JJ</td>\n",
       "      <td>B-gpe</td>\n",
       "    </tr>\n",
       "    <tr>\n",
       "      <th>19</th>\n",
       "      <td>NaN</td>\n",
       "      <td>troops</td>\n",
       "      <td>NNS</td>\n",
       "      <td>O</td>\n",
       "    </tr>\n",
       "    <tr>\n",
       "      <th>20</th>\n",
       "      <td>NaN</td>\n",
       "      <td>from</td>\n",
       "      <td>IN</td>\n",
       "      <td>O</td>\n",
       "    </tr>\n",
       "    <tr>\n",
       "      <th>21</th>\n",
       "      <td>NaN</td>\n",
       "      <td>that</td>\n",
       "      <td>DT</td>\n",
       "      <td>O</td>\n",
       "    </tr>\n",
       "    <tr>\n",
       "      <th>22</th>\n",
       "      <td>NaN</td>\n",
       "      <td>country</td>\n",
       "      <td>NN</td>\n",
       "      <td>O</td>\n",
       "    </tr>\n",
       "    <tr>\n",
       "      <th>23</th>\n",
       "      <td>NaN</td>\n",
       "      <td>.</td>\n",
       "      <td>.</td>\n",
       "      <td>O</td>\n",
       "    </tr>\n",
       "    <tr>\n",
       "      <th>24</th>\n",
       "      <td>Sentence: 2</td>\n",
       "      <td>Families</td>\n",
       "      <td>NNS</td>\n",
       "      <td>O</td>\n",
       "    </tr>\n",
       "    <tr>\n",
       "      <th>25</th>\n",
       "      <td>NaN</td>\n",
       "      <td>of</td>\n",
       "      <td>IN</td>\n",
       "      <td>O</td>\n",
       "    </tr>\n",
       "    <tr>\n",
       "      <th>26</th>\n",
       "      <td>NaN</td>\n",
       "      <td>soldiers</td>\n",
       "      <td>NNS</td>\n",
       "      <td>O</td>\n",
       "    </tr>\n",
       "    <tr>\n",
       "      <th>27</th>\n",
       "      <td>NaN</td>\n",
       "      <td>killed</td>\n",
       "      <td>VBN</td>\n",
       "      <td>O</td>\n",
       "    </tr>\n",
       "    <tr>\n",
       "      <th>28</th>\n",
       "      <td>NaN</td>\n",
       "      <td>in</td>\n",
       "      <td>IN</td>\n",
       "      <td>O</td>\n",
       "    </tr>\n",
       "    <tr>\n",
       "      <th>29</th>\n",
       "      <td>NaN</td>\n",
       "      <td>the</td>\n",
       "      <td>DT</td>\n",
       "      <td>O</td>\n",
       "    </tr>\n",
       "  </tbody>\n",
       "</table>\n",
       "</div>"
      ],
      "text/plain": [
       "     Sentence #           Word  POS    Tag\n",
       "0   Sentence: 1      Thousands  NNS      O\n",
       "1           NaN             of   IN      O\n",
       "2           NaN  demonstrators  NNS      O\n",
       "3           NaN           have  VBP      O\n",
       "4           NaN        marched  VBN      O\n",
       "5           NaN        through   IN      O\n",
       "6           NaN         London  NNP  B-geo\n",
       "7           NaN             to   TO      O\n",
       "8           NaN        protest   VB      O\n",
       "9           NaN            the   DT      O\n",
       "10          NaN            war   NN      O\n",
       "11          NaN             in   IN      O\n",
       "12          NaN           Iraq  NNP  B-geo\n",
       "13          NaN            and   CC      O\n",
       "14          NaN         demand   VB      O\n",
       "15          NaN            the   DT      O\n",
       "16          NaN     withdrawal   NN      O\n",
       "17          NaN             of   IN      O\n",
       "18          NaN        British   JJ  B-gpe\n",
       "19          NaN         troops  NNS      O\n",
       "20          NaN           from   IN      O\n",
       "21          NaN           that   DT      O\n",
       "22          NaN        country   NN      O\n",
       "23          NaN              .    .      O\n",
       "24  Sentence: 2       Families  NNS      O\n",
       "25          NaN             of   IN      O\n",
       "26          NaN       soldiers  NNS      O\n",
       "27          NaN         killed  VBN      O\n",
       "28          NaN             in   IN      O\n",
       "29          NaN            the   DT      O"
      ]
     },
     "execution_count": 3,
     "metadata": {},
     "output_type": "execute_result"
    }
   ],
   "source": [
    "df.head(30)"
   ]
  },
  {
   "cell_type": "code",
   "execution_count": 4,
   "metadata": {},
   "outputs": [
    {
     "name": "stdout",
     "output_type": "stream",
     "text": [
      "<class 'pandas.core.frame.DataFrame'>\n",
      "RangeIndex: 1048575 entries, 0 to 1048574\n",
      "Data columns (total 4 columns):\n",
      " #   Column      Non-Null Count    Dtype \n",
      "---  ------      --------------    ----- \n",
      " 0   Sentence #  47959 non-null    object\n",
      " 1   Word        1048575 non-null  object\n",
      " 2   POS         1048575 non-null  object\n",
      " 3   Tag         1048575 non-null  object\n",
      "dtypes: object(4)\n",
      "memory usage: 32.0+ MB\n"
     ]
    }
   ],
   "source": [
    "df.info()"
   ]
  },
  {
   "cell_type": "code",
   "execution_count": 5,
   "metadata": {
    "colab": {
     "base_uri": "https://localhost:8080/",
     "height": 173
    },
    "id": "i3l_KpiDqrzy",
    "outputId": "6232f66b-19b0-4360-e472-0e9bedb6f3ac"
   },
   "outputs": [
    {
     "data": {
      "text/html": [
       "<div>\n",
       "<style scoped>\n",
       "    .dataframe tbody tr th:only-of-type {\n",
       "        vertical-align: middle;\n",
       "    }\n",
       "\n",
       "    .dataframe tbody tr th {\n",
       "        vertical-align: top;\n",
       "    }\n",
       "\n",
       "    .dataframe thead th {\n",
       "        text-align: right;\n",
       "    }\n",
       "</style>\n",
       "<table border=\"1\" class=\"dataframe\">\n",
       "  <thead>\n",
       "    <tr style=\"text-align: right;\">\n",
       "      <th></th>\n",
       "      <th>Sentence #</th>\n",
       "      <th>Word</th>\n",
       "      <th>POS</th>\n",
       "      <th>Tag</th>\n",
       "    </tr>\n",
       "  </thead>\n",
       "  <tbody>\n",
       "    <tr>\n",
       "      <th>count</th>\n",
       "      <td>47959</td>\n",
       "      <td>1048575</td>\n",
       "      <td>1048575</td>\n",
       "      <td>1048575</td>\n",
       "    </tr>\n",
       "    <tr>\n",
       "      <th>unique</th>\n",
       "      <td>47959</td>\n",
       "      <td>35178</td>\n",
       "      <td>42</td>\n",
       "      <td>17</td>\n",
       "    </tr>\n",
       "    <tr>\n",
       "      <th>top</th>\n",
       "      <td>Sentence: 12073</td>\n",
       "      <td>the</td>\n",
       "      <td>NN</td>\n",
       "      <td>O</td>\n",
       "    </tr>\n",
       "    <tr>\n",
       "      <th>freq</th>\n",
       "      <td>1</td>\n",
       "      <td>52573</td>\n",
       "      <td>145807</td>\n",
       "      <td>887908</td>\n",
       "    </tr>\n",
       "  </tbody>\n",
       "</table>\n",
       "</div>"
      ],
      "text/plain": [
       "             Sentence #     Word      POS      Tag\n",
       "count             47959  1048575  1048575  1048575\n",
       "unique            47959    35178       42       17\n",
       "top     Sentence: 12073      the       NN        O\n",
       "freq                  1    52573   145807   887908"
      ]
     },
     "execution_count": 5,
     "metadata": {},
     "output_type": "execute_result"
    }
   ],
   "source": [
    "df.describe()"
   ]
  },
  {
   "cell_type": "code",
   "execution_count": 6,
   "metadata": {},
   "outputs": [
    {
     "data": {
      "text/plain": [
       "array(['O', 'B-geo', 'B-gpe', 'B-per', 'I-geo', 'B-org', 'I-org', 'B-tim',\n",
       "       'B-art', 'I-art', 'I-per', 'I-gpe', 'I-tim', 'B-nat', 'B-eve',\n",
       "       'I-eve', 'I-nat'], dtype=object)"
      ]
     },
     "execution_count": 6,
     "metadata": {},
     "output_type": "execute_result"
    }
   ],
   "source": [
    "df['Tag'].unique()"
   ]
  },
  {
   "cell_type": "markdown",
   "metadata": {},
   "source": [
    "Unique NER tags are as follows:\n",
    "* O   : other\n",
    "* geo : Geographical Entity\n",
    "* gpe : Geopolitical Entity\n",
    "* org : Organization\n",
    "* per : Person\n",
    "* tim : Time indicator\n",
    "* art : Artifact\n",
    "* eve : Event\n",
    "* nat : Natural Phenomenon"
   ]
  },
  {
   "cell_type": "code",
   "execution_count": 7,
   "metadata": {},
   "outputs": [
    {
     "data": {
      "text/plain": [
       "O        84.677586\n",
       "B-geo     3.590015\n",
       "B-tim     1.939108\n",
       "B-org     1.920988\n",
       "I-per     1.645185\n",
       "B-per     1.620294\n",
       "I-org     1.600648\n",
       "B-gpe     1.513483\n",
       "I-geo     0.707055\n",
       "I-tim     0.622559\n",
       "B-art     0.038338\n",
       "B-eve     0.029373\n",
       "I-art     0.028324\n",
       "I-eve     0.024128\n",
       "B-nat     0.019169\n",
       "I-gpe     0.018883\n",
       "I-nat     0.004864\n",
       "Name: Tag, dtype: float64"
      ]
     },
     "execution_count": 7,
     "metadata": {},
     "output_type": "execute_result"
    }
   ],
   "source": [
    "# Percentage of each class label\n",
    "df['Tag'].value_counts() / len(df) * 100"
   ]
  },
  {
   "cell_type": "markdown",
   "metadata": {},
   "source": [
    "**Observation**: Most of the labels are \"O\" (Other) which means we are dealing with imbalanced dataset."
   ]
  },
  {
   "cell_type": "markdown",
   "metadata": {},
   "source": [
    "## HANDLE MISSING VALUES"
   ]
  },
  {
   "cell_type": "code",
   "execution_count": 8,
   "metadata": {
    "colab": {
     "base_uri": "https://localhost:8080/"
    },
    "id": "020y6A9zqrzz",
    "outputId": "1ff656cf-c304-4ef6-c1aa-64be58297dd5"
   },
   "outputs": [
    {
     "data": {
      "text/plain": [
       "Sentence #    1000616\n",
       "Word                0\n",
       "POS                 0\n",
       "Tag                 0\n",
       "dtype: int64"
      ]
     },
     "execution_count": 8,
     "metadata": {},
     "output_type": "execute_result"
    }
   ],
   "source": [
    "df.isnull().sum()"
   ]
  },
  {
   "cell_type": "markdown",
   "metadata": {
    "id": "Ivz8Udk5Qwyp"
   },
   "source": [
    "**Observation**: There are missing values in sentence column, we need to fill each missing value with the nearest-top valid value."
   ]
  },
  {
   "cell_type": "code",
   "execution_count": 9,
   "metadata": {
    "colab": {
     "base_uri": "https://localhost:8080/",
     "height": 204
    },
    "id": "h4uhIKfZqrzz",
    "outputId": "28e235d7-3992-477a-865a-892ea0184b90"
   },
   "outputs": [
    {
     "data": {
      "text/html": [
       "<div>\n",
       "<style scoped>\n",
       "    .dataframe tbody tr th:only-of-type {\n",
       "        vertical-align: middle;\n",
       "    }\n",
       "\n",
       "    .dataframe tbody tr th {\n",
       "        vertical-align: top;\n",
       "    }\n",
       "\n",
       "    .dataframe thead th {\n",
       "        text-align: right;\n",
       "    }\n",
       "</style>\n",
       "<table border=\"1\" class=\"dataframe\">\n",
       "  <thead>\n",
       "    <tr style=\"text-align: right;\">\n",
       "      <th></th>\n",
       "      <th>Sentence #</th>\n",
       "      <th>Word</th>\n",
       "      <th>POS</th>\n",
       "      <th>Tag</th>\n",
       "    </tr>\n",
       "  </thead>\n",
       "  <tbody>\n",
       "    <tr>\n",
       "      <th>0</th>\n",
       "      <td>Sentence: 1</td>\n",
       "      <td>Thousands</td>\n",
       "      <td>NNS</td>\n",
       "      <td>O</td>\n",
       "    </tr>\n",
       "    <tr>\n",
       "      <th>1</th>\n",
       "      <td>Sentence: 1</td>\n",
       "      <td>of</td>\n",
       "      <td>IN</td>\n",
       "      <td>O</td>\n",
       "    </tr>\n",
       "    <tr>\n",
       "      <th>2</th>\n",
       "      <td>Sentence: 1</td>\n",
       "      <td>demonstrators</td>\n",
       "      <td>NNS</td>\n",
       "      <td>O</td>\n",
       "    </tr>\n",
       "    <tr>\n",
       "      <th>3</th>\n",
       "      <td>Sentence: 1</td>\n",
       "      <td>have</td>\n",
       "      <td>VBP</td>\n",
       "      <td>O</td>\n",
       "    </tr>\n",
       "    <tr>\n",
       "      <th>4</th>\n",
       "      <td>Sentence: 1</td>\n",
       "      <td>marched</td>\n",
       "      <td>VBN</td>\n",
       "      <td>O</td>\n",
       "    </tr>\n",
       "  </tbody>\n",
       "</table>\n",
       "</div>"
      ],
      "text/plain": [
       "    Sentence #           Word  POS Tag\n",
       "0  Sentence: 1      Thousands  NNS   O\n",
       "1  Sentence: 1             of   IN   O\n",
       "2  Sentence: 1  demonstrators  NNS   O\n",
       "3  Sentence: 1           have  VBP   O\n",
       "4  Sentence: 1        marched  VBN   O"
      ]
     },
     "execution_count": 9,
     "metadata": {},
     "output_type": "execute_result"
    }
   ],
   "source": [
    "df['Sentence #'] = df['Sentence #'].fillna(method='ffill')\n",
    "df.head()"
   ]
  },
  {
   "cell_type": "code",
   "execution_count": 10,
   "metadata": {
    "id": "nEXfTqWhqrz0"
   },
   "outputs": [],
   "source": [
    "# Dropped since we don't need this column\n",
    "df.drop('POS', axis=1, inplace=True)"
   ]
  },
  {
   "cell_type": "code",
   "execution_count": 11,
   "metadata": {
    "colab": {
     "base_uri": "https://localhost:8080/"
    },
    "id": "4aOIfaHTqrz0",
    "outputId": "6f420398-644e-46ef-8c60-0a2cd6a41568"
   },
   "outputs": [
    {
     "data": {
      "text/plain": [
       "Sentence #    0\n",
       "Word          0\n",
       "Tag           0\n",
       "dtype: int64"
      ]
     },
     "execution_count": 11,
     "metadata": {},
     "output_type": "execute_result"
    }
   ],
   "source": [
    "df.isnull().sum()"
   ]
  },
  {
   "cell_type": "markdown",
   "metadata": {
    "id": "rZI_FJ0vqrz1"
   },
   "source": [
    "## GENERATE NESTED-SENTENCES LIST"
   ]
  },
  {
   "cell_type": "code",
   "execution_count": 12,
   "metadata": {
    "id": "EWLDi5gyqrz1"
   },
   "outputs": [],
   "source": [
    "# Get list of sentences and tags\n",
    "sentences = df.groupby(\"Sentence #\")[\"Word\"].apply(list).values\n",
    "tags = df.groupby(\"Sentence #\")[\"Tag\"].apply(list).values"
   ]
  },
  {
   "cell_type": "code",
   "execution_count": 13,
   "metadata": {
    "id": "t1YBIiAJqrz2"
   },
   "outputs": [],
   "source": [
    "# Create a pair of (word, tag) inside each sentence\n",
    "paired_sentences = []\n",
    "for i in range(len(sentences)):\n",
    "    sent_pair = list(zip(sentences[i],tags[i]))\n",
    "    paired_sentences.append(sent_pair)"
   ]
  },
  {
   "cell_type": "code",
   "execution_count": 14,
   "metadata": {
    "colab": {
     "base_uri": "https://localhost:8080/"
    },
    "id": "nIWObNlgqrz2",
    "outputId": "d2850684-3e73-4991-ccb1-6fd1a8222085"
   },
   "outputs": [
    {
     "data": {
      "text/plain": [
       "[('Doctors', 'O'),\n",
       " ('say', 'O'),\n",
       " ('they', 'O'),\n",
       " ('expect', 'O'),\n",
       " ('Mr.', 'B-per'),\n",
       " ('Sharon', 'I-per'),\n",
       " ('will', 'O'),\n",
       " ('make', 'O'),\n",
       " ('a', 'O'),\n",
       " ('full', 'O'),\n",
       " ('recovery', 'O'),\n",
       " ('.', 'O')]"
      ]
     },
     "execution_count": 14,
     "metadata": {},
     "output_type": "execute_result"
    }
   ],
   "source": [
    "# Sample sentence\n",
    "paired_sentences[18]"
   ]
  },
  {
   "cell_type": "markdown",
   "metadata": {
    "id": "KmNwQFJjqrz3"
   },
   "source": [
    "## EXTRACT FEATURES (ENCODING)"
   ]
  },
  {
   "cell_type": "code",
   "execution_count": 15,
   "metadata": {
    "id": "5FGi0ISSqrz3"
   },
   "outputs": [],
   "source": [
    "#Get vocabulary from unique words and unique tags\n",
    "unique_words = df[\"Word\"].unique().tolist()\n",
    "unique_words.append(\"ENDPAD\")\n",
    "unique_words.append(\"UNK\")\n",
    "num_words = len(unique_words)\n",
    "\n",
    "unique_tags = df[\"Tag\"].unique().tolist()\n",
    "num_tags = len(unique_tags)"
   ]
  },
  {
   "cell_type": "code",
   "execution_count": 16,
   "metadata": {
    "id": "iplVYDQZqrz4"
   },
   "outputs": [],
   "source": [
    "# Create word-to-index and tags-to-index dictionaries\n",
    "word2index = {w: i for i, w in enumerate(unique_words)}\n",
    "tag2index = {t: i for i, t in enumerate(unique_tags)}"
   ]
  },
  {
   "cell_type": "code",
   "execution_count": 17,
   "metadata": {
    "id": "vcV84FINqrz4"
   },
   "outputs": [],
   "source": [
    "# Encode each (word,tag) pair using the above dictionaries\n",
    "X = [[word2index[w[0]] for w in s] for s in paired_sentences]\n",
    "y = [[tag2index[w[1]] for w in s] for s in paired_sentences]"
   ]
  },
  {
   "cell_type": "code",
   "execution_count": 18,
   "metadata": {
    "id": "U9EHsWdyqrz4"
   },
   "outputs": [],
   "source": [
    "# Choose the max_len as the longest sentence's length\n",
    "max_len = max([len(s) for s in paired_sentences])"
   ]
  },
  {
   "cell_type": "code",
   "execution_count": 19,
   "metadata": {
    "id": "1CRYrmHtqrz5"
   },
   "outputs": [],
   "source": [
    "# Apply padding to each word-vector (to ensure same size for each)\n",
    "X = pad_sequences(maxlen=max_len, sequences=X, padding=\"post\",value=word2index[\"ENDPAD\"])\n",
    "y = pad_sequences(maxlen=max_len, sequences=y, padding=\"post\", value=tag2index[\"O\"])"
   ]
  },
  {
   "cell_type": "code",
   "execution_count": 20,
   "metadata": {
    "id": "RfLODszUqrz5"
   },
   "outputs": [],
   "source": [
    "# Convert labels to one-hot vector\n",
    "y = [to_categorical(i, num_classes=num_tags) for i in y]"
   ]
  },
  {
   "cell_type": "code",
   "execution_count": 21,
   "metadata": {
    "id": "eHi9vA03qrz5"
   },
   "outputs": [],
   "source": [
    "# Train-Test Split\n",
    "X_train, X_test, y_train, y_test = train_test_split(X, y, test_size=0.2)"
   ]
  },
  {
   "cell_type": "markdown",
   "metadata": {
    "id": "pBdXlJ96qrz6"
   },
   "source": [
    "## CREATE RNN MODEL"
   ]
  },
  {
   "cell_type": "code",
   "execution_count": 21,
   "metadata": {
    "id": "-ZcNNKLOqrz6"
   },
   "outputs": [],
   "source": [
    "# RNN Model\n",
    "model = Sequential()\n",
    "model.add(Embedding(input_dim=num_words, output_dim=max_len, input_length=max_len))\n",
    "model.add(Dropout(0.25))\n",
    "model.add(Bidirectional(LSTM(units=64, return_sequences=True)))\n",
    "model.add(Dropout(0.25))\n",
    "model.add(TimeDistributed(Dense(num_tags, activation=\"softmax\")))"
   ]
  },
  {
   "cell_type": "code",
   "execution_count": 22,
   "metadata": {
    "colab": {
     "base_uri": "https://localhost:8080/"
    },
    "id": "yhTnnkMuqrz7",
    "outputId": "6c1b2a9f-d705-431c-de3b-abc3bc7ff12b"
   },
   "outputs": [
    {
     "name": "stdout",
     "output_type": "stream",
     "text": [
      "Model: \"sequential\"\n",
      "_________________________________________________________________\n",
      "Layer (type)                 Output Shape              Param #   \n",
      "=================================================================\n",
      "embedding (Embedding)        (None, 104, 104)          3658720   \n",
      "_________________________________________________________________\n",
      "dropout (Dropout)            (None, 104, 104)          0         \n",
      "_________________________________________________________________\n",
      "bidirectional (Bidirectional (None, 104, 128)          86528     \n",
      "_________________________________________________________________\n",
      "dropout_1 (Dropout)          (None, 104, 128)          0         \n",
      "_________________________________________________________________\n",
      "time_distributed (TimeDistri (None, 104, 17)           2193      \n",
      "=================================================================\n",
      "Total params: 3,747,441\n",
      "Trainable params: 3,747,441\n",
      "Non-trainable params: 0\n",
      "_________________________________________________________________\n"
     ]
    }
   ],
   "source": [
    "model.summary()"
   ]
  },
  {
   "cell_type": "code",
   "execution_count": 23,
   "metadata": {
    "colab": {
     "base_uri": "https://localhost:8080/"
    },
    "id": "yHZRtxVTqrz7",
    "outputId": "5bb2fe04-d8e2-4995-db8b-e653ec68a7e3"
   },
   "outputs": [],
   "source": [
    "model.compile(optimizer=\"adam\", loss=\"categorical_crossentropy\", metrics=[\"accuracy\"])"
   ]
  },
  {
   "cell_type": "code",
   "execution_count": 24,
   "metadata": {},
   "outputs": [],
   "source": [
    "earlyStop = EarlyStopping(monitor='val_loss', patience=2)\n",
    "checkpointer = ModelCheckpoint(filepath='ner_rnn.h5', save_best_only=True)"
   ]
  },
  {
   "cell_type": "code",
   "execution_count": 25,
   "metadata": {},
   "outputs": [
    {
     "name": "stdout",
     "output_type": "stream",
     "text": [
      "Epoch 1/10\n",
      "960/960 [==============================] - 165s 166ms/step - loss: 0.2985 - accuracy: 0.9593 - val_loss: 0.0428 - val_accuracy: 0.9885\n",
      "Epoch 2/10\n",
      "960/960 [==============================] - 172s 179ms/step - loss: 0.0353 - accuracy: 0.9902 - val_loss: 0.0277 - val_accuracy: 0.9919\n",
      "Epoch 3/10\n",
      "960/960 [==============================] - 184s 191ms/step - loss: 0.0221 - accuracy: 0.9936 - val_loss: 0.0254 - val_accuracy: 0.9924\n",
      "Epoch 4/10\n",
      "960/960 [==============================] - 195s 203ms/step - loss: 0.0172 - accuracy: 0.9949 - val_loss: 0.0249 - val_accuracy: 0.9928\n",
      "Epoch 5/10\n",
      "960/960 [==============================] - 203s 212ms/step - loss: 0.0145 - accuracy: 0.9956 - val_loss: 0.0253 - val_accuracy: 0.9928\n",
      "Epoch 6/10\n",
      "960/960 [==============================] - 202s 210ms/step - loss: 0.0129 - accuracy: 0.9960 - val_loss: 0.0258 - val_accuracy: 0.9927\n"
     ]
    }
   ],
   "source": [
    "history = model.fit(X_train, np.array(y_train), \n",
    "                    batch_size=32, \n",
    "                    epochs=10, \n",
    "                    validation_split=0.2, \n",
    "                    callbacks=[earlyStop, checkpointer])"
   ]
  },
  {
   "cell_type": "markdown",
   "metadata": {
    "id": "_S9bvnJkt3nI"
   },
   "source": [
    "## EVALUATE PERFORMANCE OF TEST SET"
   ]
  },
  {
   "cell_type": "code",
   "execution_count": 47,
   "metadata": {},
   "outputs": [
    {
     "data": {
      "text/plain": [
       "<AxesSubplot:>"
      ]
     },
     "execution_count": 47,
     "metadata": {},
     "output_type": "execute_result"
    },
    {
     "data": {
      "image/png": "[encoded data removed]",
      "text/plain": [
       "<Figure size 432x288 with 1 Axes>"
      ]
     },
     "metadata": {
      "needs_background": "light"
     },
     "output_type": "display_data"
    }
   ],
   "source": [
    "# Plot the losses\n",
    "losses = pd.DataFrame(history.history)\n",
    "losses[['loss','val_loss']].plot()"
   ]
  },
  {
   "cell_type": "code",
   "execution_count": 26,
   "metadata": {
    "id": "t7BHp9TJqrz7"
   },
   "outputs": [],
   "source": [
    "# Make predictions\n",
    "y_pred = model.predict(X_test)\n",
    "# Choose class with maximum probability\n",
    "y_pred = np.argmax(y_pred, axis=-1)\n",
    "y_true = np.argmax(y_test, axis=-1)"
   ]
  },
  {
   "cell_type": "code",
   "execution_count": 27,
   "metadata": {
    "id": "p_49YMReu0AU"
   },
   "outputs": [],
   "source": [
    "# Create index-to-tag dictionary\n",
    "index2tag = {i: t for t, i in tag2index.items()}"
   ]
  },
  {
   "cell_type": "code",
   "execution_count": 28,
   "metadata": {
    "id": "4c4s52yAuv04"
   },
   "outputs": [],
   "source": [
    "# Convert each indices back to tags\n",
    "y_pred = [[index2tag[y] for y in y_s] for y_s in y_pred]\n",
    "y_true = [[index2tag[y] for y in y_s] for y_s in y_true]"
   ]
  },
  {
   "cell_type": "code",
   "execution_count": 29,
   "metadata": {
    "colab": {
     "base_uri": "https://localhost:8080/"
    },
    "id": "x6JchQD6xuUA",
    "outputId": "8dd894ea-e931-49bb-8834-9daeedf93bff"
   },
   "outputs": [
    {
     "name": "stdout",
     "output_type": "stream",
     "text": [
      "Accuracy score : 99.3%\n",
      "Precision score: 79.9%\n",
      "Recall score   : 80.9%\n",
      "F1-score       : 80.4%\n"
     ]
    }
   ],
   "source": [
    "# Print evaluation metrics and classification report\n",
    "print(\"Accuracy score : {:.1%}\".format(accuracy_score(y_true, y_pred)))\n",
    "print(\"Precision score: {:.1%}\".format(precision_score(y_true, y_pred)))\n",
    "print(\"Recall score   : {:.1%}\".format(recall_score(y_true, y_pred)))\n",
    "print(\"F1-score       : {:.1%}\".format(f1_score(y_true, y_pred)))"
   ]
  },
  {
   "cell_type": "code",
   "execution_count": 30,
   "metadata": {
    "colab": {
     "base_uri": "https://localhost:8080/"
    },
    "id": "jiXN52-Czlac",
    "outputId": "4b0de7cb-daa3-468a-e099-55b8ae516099"
   },
   "outputs": [
    {
     "name": "stdout",
     "output_type": "stream",
     "text": [
      "              precision    recall  f1-score   support\n",
      "\n",
      "         art       0.00      0.00      0.00        72\n",
      "         eve       0.39      0.26      0.31        58\n",
      "         geo       0.85      0.86      0.85      7543\n",
      "         gpe       0.96      0.93      0.95      3111\n",
      "         nat       0.32      0.32      0.32        28\n",
      "         org       0.63      0.69      0.66      3956\n",
      "         per       0.74      0.71      0.72      3425\n",
      "         tim       0.83      0.85      0.84      3998\n",
      "\n",
      "   micro avg       0.80      0.81      0.80     22191\n",
      "   macro avg       0.59      0.58      0.58     22191\n",
      "weighted avg       0.80      0.81      0.80     22191\n",
      "\n"
     ]
    }
   ],
   "source": [
    "print(classification_report(y_true, y_pred))"
   ]
  },
  {
   "cell_type": "code",
   "execution_count": 31,
   "metadata": {},
   "outputs": [],
   "source": [
    "# Save the necessary objects for making new predictions as pickle file\n",
    "obj = {'word2index': word2index, 'tag2index': tag2index, 'index2tag': index2tag, \n",
    "       'num_tags': num_tags, 'unique_words': unique_words}\n",
    "\n",
    "with open(\"saved_objects.dat\", \"wb\") as f:\n",
    "    pickle.dump(obj, f)"
   ]
  },
  {
   "cell_type": "markdown",
   "metadata": {
    "id": "uyzOemGk3f1S"
   },
   "source": [
    "## MAKE PREDICTION FOR NEW OBSERVATION"
   ]
  },
  {
   "cell_type": "code",
   "execution_count": 30,
   "metadata": {},
   "outputs": [],
   "source": [
    "# Use this if you don't want to re-train the model\n",
    "#with open(\"saved_objects.dat\", \"rb\") as f:\n",
    "#    saved_obj = pickle.load(f)\n",
    "#word2index = saved_obj['word2index'] \n",
    "#tag2index = saved_obj['tag2index']  \n",
    "#index2tag = saved_obj['index2tag']  \n",
    "#num_tags = saved_obj['num_tags']  \n",
    "#unique_words = saved_obj['unique_words']"
   ]
  },
  {
   "cell_type": "code",
   "execution_count": 22,
   "metadata": {},
   "outputs": [],
   "source": [
    "new_sentence = ['Mr.', 'Huseyin', 'said', 'the', 'latest', 'figures', 'show', '1.8', 'million', 'people', \n",
    "                'are', 'in', 'need', 'of', 'food', 'assistance', '-', 'with', 'the', 'need', 'greatest', \n",
    "                'in', 'Indonesia', ',', 'the', 'Maldives', 'and', 'India', '.']"
   ]
  },
  {
   "cell_type": "code",
   "execution_count": 23,
   "metadata": {},
   "outputs": [],
   "source": [
    "new_tags = ['B-per', 'I-per', 'O', 'O', 'O', 'O', 'O', 'O', 'O', 'O', 'O', 'O', 'O', 'O', 'O', 'O', 'O', 'O',\n",
    "            'O', 'O', 'O', 'O', 'B-geo', 'O', 'O', 'B-geo', 'O', 'B-geo', 'O']"
   ]
  },
  {
   "cell_type": "code",
   "execution_count": 24,
   "metadata": {},
   "outputs": [],
   "source": [
    "# Convert each word and label into index\n",
    "sample_x = [word2index.get(word, word2index['UNK']) for word in new_sentence]\n",
    "sample_y = [tag2index.get(tag, tag2index[\"O\"]) for tag in new_tags]"
   ]
  },
  {
   "cell_type": "code",
   "execution_count": 25,
   "metadata": {
    "id": "M8l-PmBgEyoL"
   },
   "outputs": [],
   "source": [
    "# Apply padding and one-hot vectorization\n",
    "sample_x.extend([word2index[\"ENDPAD\"]] * (max_len - len(sample_x)))\n",
    "sample_y.extend([tag2index[\"O\"]] * (max_len - len(sample_y)))\n",
    "sample_y = [to_categorical(i, num_classes=num_tags) for i in sample_y]"
   ]
  },
  {
   "cell_type": "code",
   "execution_count": 29,
   "metadata": {},
   "outputs": [],
   "source": [
    "# Load the pre-trained model\n",
    "model = load_model('ner_rnn.h5')"
   ]
  },
  {
   "cell_type": "code",
   "execution_count": 39,
   "metadata": {
    "id": "41GhcXTSByty"
   },
   "outputs": [],
   "source": [
    "# Make prediction and get true labels\n",
    "pred = model.predict(np.array([sample_x]))\n",
    "pred = np.squeeze(np.argmax(pred, axis=-1))\n",
    "true = np.argmax(np.array(sample_y), axis=-1)"
   ]
  },
  {
   "cell_type": "code",
   "execution_count": 39,
   "metadata": {
    "colab": {
     "base_uri": "https://localhost:8080/"
    },
    "id": "F2EBPrbMHD2A",
    "outputId": "9aeb2e9c-9d3a-47ad-a0d9-742eee2d732f"
   },
   "outputs": [
    {
     "name": "stdout",
     "output_type": "stream",
     "text": [
      "Word        | True  | Pred\n",
      "------------------------------\n",
      "Mr.         : B-per  B-per\n",
      "UNK         : I-per  I-per\n",
      "said        : O      O\n",
      "the         : O      O\n",
      "latest      : O      O\n",
      "figures     : O      O\n",
      "show        : O      O\n",
      "1.8         : O      O\n",
      "million     : O      O\n",
      "people      : O      O\n",
      "are         : O      O\n",
      "in          : O      O\n",
      "need        : O      O\n",
      "of          : O      O\n",
      "food        : O      O\n",
      "assistance  : O      O\n",
      "-           : O      O\n",
      "with        : O      O\n",
      "the         : O      O\n",
      "need        : O      O\n",
      "greatest    : O      O\n",
      "in          : O      O\n",
      "Indonesia   : B-geo  B-geo\n",
      ",           : O      O\n",
      "the         : O      O\n",
      "Maldives    : B-geo  B-geo\n",
      "and         : O      O\n",
      "India       : B-geo  B-geo\n",
      ".           : O      O\n"
     ]
    }
   ],
   "source": [
    "# Show predictions\n",
    "print(\"{:12}| {:6}| {}\".format(\"Word\", \"True\", \"Pred\"))\n",
    "print(30 * \"-\")\n",
    "for w, t, p in zip(np.array(sample_x), true, pred):\n",
    "    if unique_words[w] != 'ENDPAD':\n",
    "        print(\"{:12}: {:6} {}\".format(unique_words[w], index2tag[t], index2tag[p]))"
   ]
  },
  {
   "cell_type": "markdown",
   "metadata": {
    "id": "DvCj4tML4iiT"
   },
   "source": [
    "**OBSERVATION**: Note that even the word \"Huseyin\" (UNK-Unknown Word) is not on the vocabulary list, my model has succesfully predict it's NER as \"Person\""
   ]
  }
 ],
 "metadata": {
  "accelerator": "GPU",
  "colab": {
   "collapsed_sections": [],
   "name": "SORU1.ipynb",
   "provenance": []
  },
  "kernelspec": {
   "display_name": "Python 3",
   "language": "python",
   "name": "python3"
  },
  "language_info": {
   "codemirror_mode": {
    "name": "ipython",
    "version": 3
   },
   "file_extension": ".py",
   "mimetype": "text/x-python",
   "name": "python",
   "nbconvert_exporter": "python",
   "pygments_lexer": "ipython3",
   "version": "3.8.5"
  }
 },
 "nbformat": 4,
 "nbformat_minor": 1
}
